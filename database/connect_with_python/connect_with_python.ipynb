{
 "cells": [
  {
   "cell_type": "code",
   "execution_count": 9,
   "metadata": {},
   "outputs": [],
   "source": [
    "import pandas as pd\n",
    "import sqlite3"
   ]
  },
  {
   "cell_type": "code",
   "execution_count": 16,
   "metadata": {},
   "outputs": [],
   "source": [
    "class Instructor(object):\n",
    "    def __init__(self, id, fname, lname, city, ccode):\n",
    "        self.ident = id,\n",
    "        self.fname = fname\n",
    "        self.lname = lname\n",
    "        self.city = city\n",
    "        self.ccode = ccode\n",
    "\n",
    "    def to_tuple(self):\n",
    "        return (self.ident[0],self.fname,self.lname,self.city,self.ccode,)\n",
    "\n",
    "class DataDao(object):\n",
    "    db_path = \"instructor\"\n",
    "    def __init__(self):\n",
    "        super(DataDao, self).__init__()\n",
    "        self.conn = sqlite3.connect(self.db_path)\n",
    "        cursor = self.conn.cursor()\n",
    "        cursor.execute(self._create_instructor_table_query())\n",
    "    \n",
    "    def _create_instructor_table_query(self):\n",
    "        return \"\"\" CREATE TABLE IF NOT EXISTS INSTRUCTOR (\n",
    "                    ID INTEGER NOT NULL,\n",
    "                    FNAME VARCHAR(20) NOT NULL,\n",
    "                    LNAME VARCHAR(20) NOT NULL,\n",
    "                    CITY  VARCHAR(20) NOT NULL,\n",
    "                    CCODE CHAR (2) NOT NULL\n",
    "                    );\"\"\"\n",
    "    \n",
    "    def close_connection(self):\n",
    "        if self.conn:\n",
    "            self.conn.commit()\n",
    "            self.conn.close()\n",
    "\n",
    "    def insert_instructor(self,entity: Instructor):\n",
    "        sql ='INSERT INTO INSTRUCTOR VALUES (?,?,?,?,?)'\n",
    "        cursor = self.conn.cursor()\n",
    "        cursor.execute(sql,entity.to_tuple())\n",
    "        self.conn.commit()\n",
    "        return cursor.lastrowid\n",
    "    \n",
    "    def get_all_instructor(self):\n",
    "        sql = 'SELECT * FROM INSTRUCTOR'\n",
    "        return pd.read_sql_query(sql, self.conn)\n"
   ]
  },
  {
   "cell_type": "code",
   "execution_count": 23,
   "metadata": {},
   "outputs": [],
   "source": [
    "\n",
    "#entryId = dao.insert_instructor(instructor)\n",
    "dao = DataDao() \n",
    "instructors= dao.get_all_instructor()\n",
    "dao.close_connection()\n"
   ]
  },
  {
   "cell_type": "code",
   "execution_count": 24,
   "metadata": {},
   "outputs": [
    {
     "data": {
      "text/html": [
       "<div>\n",
       "<style scoped>\n",
       "    .dataframe tbody tr th:only-of-type {\n",
       "        vertical-align: middle;\n",
       "    }\n",
       "\n",
       "    .dataframe tbody tr th {\n",
       "        vertical-align: top;\n",
       "    }\n",
       "\n",
       "    .dataframe thead th {\n",
       "        text-align: right;\n",
       "    }\n",
       "</style>\n",
       "<table border=\"1\" class=\"dataframe\">\n",
       "  <thead>\n",
       "    <tr style=\"text-align: right;\">\n",
       "      <th></th>\n",
       "      <th>ID</th>\n",
       "      <th>FNAME</th>\n",
       "      <th>LNAME</th>\n",
       "      <th>CITY</th>\n",
       "      <th>CCODE</th>\n",
       "    </tr>\n",
       "  </thead>\n",
       "  <tbody>\n",
       "    <tr>\n",
       "      <th>0</th>\n",
       "      <td>1</td>\n",
       "      <td>Kesse</td>\n",
       "      <td>Dan</td>\n",
       "      <td>Oulu</td>\n",
       "      <td>OU</td>\n",
       "    </tr>\n",
       "    <tr>\n",
       "      <th>1</th>\n",
       "      <td>2</td>\n",
       "      <td>Pokuaa</td>\n",
       "      <td>Anna</td>\n",
       "      <td>Oulu</td>\n",
       "      <td>OU</td>\n",
       "    </tr>\n",
       "  </tbody>\n",
       "</table>\n",
       "</div>"
      ],
      "text/plain": [
       "   ID   FNAME LNAME  CITY CCODE\n",
       "0   1   Kesse   Dan  Oulu    OU\n",
       "1   2  Pokuaa  Anna  Oulu    OU"
      ]
     },
     "execution_count": 24,
     "metadata": {},
     "output_type": "execute_result"
    }
   ],
   "source": [
    "instructors"
   ]
  },
  {
   "cell_type": "code",
   "execution_count": null,
   "metadata": {},
   "outputs": [],
   "source": []
  }
 ],
 "metadata": {
  "kernelspec": {
   "display_name": "base",
   "language": "python",
   "name": "python3"
  },
  "language_info": {
   "codemirror_mode": {
    "name": "ipython",
    "version": 3
   },
   "file_extension": ".py",
   "mimetype": "text/x-python",
   "name": "python",
   "nbconvert_exporter": "python",
   "pygments_lexer": "ipython3",
   "version": "3.12.4"
  }
 },
 "nbformat": 4,
 "nbformat_minor": 2
}
